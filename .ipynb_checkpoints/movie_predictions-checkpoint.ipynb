{
 "cells": [
  {
   "cell_type": "markdown",
   "metadata": {},
   "source": [
    "# Movie Box Office Sales Classifer"
   ]
  },
  {
   "cell_type": "code",
   "execution_count": 236,
   "metadata": {
    "collapsed": false
   },
   "outputs": [],
   "source": [
    "#load packages\n",
    "import pandas as pd\n",
    "import seaborn as sns\n",
    "import matplotlib.pyplot as plt\n",
    "%matplotlib inline\n",
    "import numpy as np\n",
    "from sklearn import *\n",
    "from mlxtend.plotting import plot_confusion_matrix\n",
    "from mlxtend.evaluate import confusion_matrix\n",
    "from itertools import cycle\n",
    "from scipy import interp\n",
    "\n",
    "import os"
   ]
  },
  {
   "cell_type": "code",
   "execution_count": 237,
   "metadata": {
    "collapsed": false
   },
   "outputs": [],
   "source": [
    "#define helper functions for modeling\n",
    "def get_predictions(model, X_test, X_train, y_train):\n",
    "    '''helper function to get predictions.\n",
    "       parameters:\n",
    "       model: trained model\n",
    "       X_test: test set features\n",
    "       X_train: train set features\n",
    "       y_train; train set target'''\n",
    "    model.fit(X_train, y_train)\n",
    "    hard_predicts = model.predict(X_test)\n",
    "    proba_predicts = model.predict_proba(X_test)\n",
    "    \n",
    "    return model, hard_predicts, proba_predicts\n",
    "\n",
    "    \n",
    "def get_cv_log(model, X, y, n):\n",
    "    '''gives cross-validated log loss core. n splits\n",
    "    parameters:\n",
    "    model = model used\n",
    "    X = features\n",
    "    y = target\n",
    "    n = number of folds'''\n",
    "    cv = model_selection.StratifiedKFold(n_splits=n)\n",
    "    log_loss_list = []\n",
    "\n",
    "    for train, test in cv.split(X,y):\n",
    "        _, model_pred, model_pred_proba = get_predictions(model, X.iloc[test,:], X.iloc[train,:], y[train])\n",
    "        log_loss_list.append(metrics.log_loss(y[test], model_pred_proba))\n",
    "        \n",
    "    return np.mean(log_loss_list)\n",
    "\n",
    "def plot_cm(y_test, y_pred):\n",
    "    '''helper function to plot confusion matrix.\n",
    "       parameters:\n",
    "       y_test: test set\n",
    "       y_pred: hard predictions'''\n",
    "    cm = confusion_matrix(y_test, y_pred, binary=False)\n",
    "    fig, ax = plot_confusion_matrix(cm)\n",
    "    fig.set_size_inches(7,7)\n",
    "    ax.set_title('Model\\'s Confusion Matrix')\n",
    "    ax.set_xticks([x for x in range(1,10)]);\n",
    "    ax.set_xticklabels(range(2, 10));\n",
    "    ax.set_yticks([x for x in range(1,10)]);\n",
    "    ax.set_yticklabels(range(2, 10));\n",
    "\n",
    "def plot_overfit(metric, X, y, model_obj, param_ranges, param_static=None): \n",
    "    '''helper function to plot performance of model accross different parameters.\n",
    "    '''\n",
    "    \n",
    "    if metric == 'log_loss':\n",
    "        cv = model_selection.StratifiedKFold(n_splits=2)\n",
    "        \n",
    "        for parameter,parameter_range in param_ranges.items():\n",
    "            avg_train_score = [] \n",
    "            avg_test_score = []\n",
    "            std_train_score = [] \n",
    "            std_test_score = []\n",
    "\n",
    "            for param_val in parameter_range:\n",
    "                #print watcher to command line\n",
    "                string_to_echo = 'checking parameter value: ' + str(param_val)\n",
    "                cmd=\"echo \"+string_to_echo\n",
    "                os.system(cmd)\n",
    "                \n",
    "                #set parameters of model to be tested\n",
    "                param = {parameter:param_val}\n",
    "                if param_static:\n",
    "                    param.update(param_static)\n",
    "\n",
    "\n",
    "                model = model_obj(**param)\n",
    "                \n",
    "                #get the 3-fold cross validation score 3 times for each train and test. average them and get the stdev.\n",
    "                train_scores = []\n",
    "                test_scores = []\n",
    "                for i in range(2):\n",
    "                    test_log_loss_list = []\n",
    "                    train_log_loss_list = []\n",
    "                    for train, test in cv.split(X,y):\n",
    "                        model.fit(X.iloc[train,:], y[train])\n",
    "                        \n",
    "                        test_hard_predicts = model.predict(X.iloc[test,:])\n",
    "                        test_proba_predicts = model.predict_proba(X.iloc[test,:]) \n",
    "                        \n",
    "                        train_hard_predicts = model.predict(X.iloc[train,:])\n",
    "                        train_proba_predicts = model.predict_proba(X.iloc[train,:]) \n",
    "                        \n",
    "                        test_log_loss_list.append(metrics.log_loss(y[test], test_proba_predicts))\n",
    "                        train_log_loss_list.append(metrics.log_loss(y[train], train_proba_predicts))\n",
    "                    \n",
    "                    train_scores.append(np.mean(train_log_loss_list))\n",
    "                    test_scores.append(np.mean(test_log_loss_list))\n",
    "                    #string_to_write = 'param_val: ' + str(param_val) + ' log loss: ' + str(np.mean(test_log_loss_list))\n",
    "                    #f.write(string_to_write)\n",
    "                    \n",
    "                avg_train_score.append(np.mean(train_scores))\n",
    "                avg_test_score.append(np.mean(test_scores))\n",
    "\n",
    "                std_train_score.append(np.std(train_scores))\n",
    "                std_test_score.append(np.std(test_scores))\n",
    "            \n",
    "            #plot the train and test log loss scores\n",
    "            fig,ax = plt.subplots(figsize=(10,4))\n",
    "            ax.errorbar(parameter_range,avg_train_score,yerr=std_train_score,label='training score')\n",
    "            ax.errorbar(parameter_range,avg_test_score,yerr=std_test_score,label='testing score')\n",
    "\n",
    "            ax.set_xlabel(parameter)\n",
    "            ax.set_ylabel('log loss')\n",
    "            ax.legend(loc=0)\n",
    "            \n",
    "def modify_prod_method(value):\n",
    "    '''helper function to reduce sub-categories of poduction method into 3.\n",
    "    '''\n",
    "    \n",
    "    if value == 'Live Action' or value == 'Animation/Live Action':\n",
    "        return value\n",
    "    elif value == 'Digital Animation' or value == 'Hand Animation' or value == 'Stop-Motion Animation':\n",
    "        return 'Animation'\n",
    "    \n",
    "def get_num_competitors(row, df_competition):\n",
    "    '''helper function to get number of competitors in the genre for the same production year.\n",
    "    '''\n",
    "    return df_competition.loc[(df_competition['production_year'] == row['production_year']) & (df_competition['genre'] == row['genre'])][0].values[0]\n",
    "\n",
    "def get_num_competitors_total(row, df_competition):\n",
    "    '''helper function to get number of total competitors for the same production year.\n",
    "    '''\n",
    "    return df_competition.loc[df_competition['production_year'] == row['production_year']][0].values[0]\n",
    "\n",
    "def rating_to_ranked_order(value):\n",
    "    '''helper function to convert rating to a ranked list rather than one-hot encoding.\n",
    "    '''\n",
    "    return movie_board_rating_ranked_list.index(value) + 1\n",
    "\n",
    "def genre_to_ranked_order(value):\n",
    "    '''helper function to convert genre to a ranked list rather than one-hot encoding.\n",
    "    '''\n",
    "    return genre_ranked_list.index(value) + 1"
   ]
  },
  {
   "cell_type": "markdown",
   "metadata": {},
   "source": [
    "## Step 1: Load & Inspect Data"
   ]
  },
  {
   "cell_type": "code",
   "execution_count": 238,
   "metadata": {
    "collapsed": false
   },
   "outputs": [
    {
     "data": {
      "text/html": [
       "<div>\n",
       "<style>\n",
       "    .dataframe thead tr:only-child th {\n",
       "        text-align: right;\n",
       "    }\n",
       "\n",
       "    .dataframe thead th {\n",
       "        text-align: left;\n",
       "    }\n",
       "\n",
       "    .dataframe tbody tr th {\n",
       "        vertical-align: top;\n",
       "    }\n",
       "</style>\n",
       "<table border=\"1\" class=\"dataframe\">\n",
       "  <thead>\n",
       "    <tr style=\"text-align: right;\">\n",
       "      <th></th>\n",
       "      <th>id</th>\n",
       "      <th>name</th>\n",
       "      <th>display_name</th>\n",
       "      <th>production_year</th>\n",
       "      <th>movie_sequel</th>\n",
       "      <th>creative_type</th>\n",
       "      <th>source</th>\n",
       "      <th>production_method</th>\n",
       "      <th>genre</th>\n",
       "      <th>language</th>\n",
       "      <th>board_rating_reason</th>\n",
       "      <th>movie_board_rating_display_name</th>\n",
       "      <th>movie_release_pattern_display_name</th>\n",
       "      <th>total</th>\n",
       "      <th>Category</th>\n",
       "    </tr>\n",
       "  </thead>\n",
       "  <tbody>\n",
       "    <tr>\n",
       "      <th>0</th>\n",
       "      <td>7950115</td>\n",
       "      <td>Avatar</td>\n",
       "      <td>Avatar</td>\n",
       "      <td>2009</td>\n",
       "      <td>0</td>\n",
       "      <td>Science Fiction</td>\n",
       "      <td>Original Screenplay</td>\n",
       "      <td>Animation/Live Action</td>\n",
       "      <td>Action</td>\n",
       "      <td>English</td>\n",
       "      <td>For intense epic battle sequences and warfare,...</td>\n",
       "      <td>PG-13</td>\n",
       "      <td>Wide</td>\n",
       "      <td>2784</td>\n",
       "      <td>9</td>\n",
       "    </tr>\n",
       "    <tr>\n",
       "      <th>1</th>\n",
       "      <td>50950115</td>\n",
       "      <td>Harry Potter and the Deathly Hallows: Part II</td>\n",
       "      <td>Harry Potter and the Deathly Hallows: Part II</td>\n",
       "      <td>2011</td>\n",
       "      <td>1</td>\n",
       "      <td>Fantasy</td>\n",
       "      <td>Based on Fiction Book/Short Story</td>\n",
       "      <td>Animation/Live Action</td>\n",
       "      <td>Adventure</td>\n",
       "      <td>English</td>\n",
       "      <td>for some sequences of intense action violence ...</td>\n",
       "      <td>PG-13</td>\n",
       "      <td>Wide</td>\n",
       "      <td>1328</td>\n",
       "      <td>9</td>\n",
       "    </tr>\n",
       "    <tr>\n",
       "      <th>2</th>\n",
       "      <td>119870115</td>\n",
       "      <td>Transformers 3</td>\n",
       "      <td>Transformers: Dark of the Moon</td>\n",
       "      <td>2011</td>\n",
       "      <td>1</td>\n",
       "      <td>Science Fiction</td>\n",
       "      <td>Based on TV</td>\n",
       "      <td>Animation/Live Action</td>\n",
       "      <td>Action</td>\n",
       "      <td>English</td>\n",
       "      <td>for intense prolonged sequences of sci-fi acti...</td>\n",
       "      <td>PG-13</td>\n",
       "      <td>Wide</td>\n",
       "      <td>1124</td>\n",
       "      <td>9</td>\n",
       "    </tr>\n",
       "    <tr>\n",
       "      <th>3</th>\n",
       "      <td>119590115</td>\n",
       "      <td>Toy Story 3</td>\n",
       "      <td>Toy Story 3</td>\n",
       "      <td>2010</td>\n",
       "      <td>1</td>\n",
       "      <td>Kids Fiction</td>\n",
       "      <td>Original Screenplay</td>\n",
       "      <td>Digital Animation</td>\n",
       "      <td>Adventure</td>\n",
       "      <td>English</td>\n",
       "      <td>General</td>\n",
       "      <td>G</td>\n",
       "      <td>Wide</td>\n",
       "      <td>1064</td>\n",
       "      <td>9</td>\n",
       "    </tr>\n",
       "    <tr>\n",
       "      <th>4</th>\n",
       "      <td>91700115</td>\n",
       "      <td>Pirates of the Caribbean 4</td>\n",
       "      <td>Pirates of the Caribbean: On Stranger Tides</td>\n",
       "      <td>2011</td>\n",
       "      <td>1</td>\n",
       "      <td>Fantasy</td>\n",
       "      <td>Based on Theme Park Ride</td>\n",
       "      <td>Live Action</td>\n",
       "      <td>Adventure</td>\n",
       "      <td>English</td>\n",
       "      <td>for intense sequences of action/adventure viol...</td>\n",
       "      <td>PG-13</td>\n",
       "      <td>Wide</td>\n",
       "      <td>1044</td>\n",
       "      <td>9</td>\n",
       "    </tr>\n",
       "  </tbody>\n",
       "</table>\n",
       "</div>"
      ],
      "text/plain": [
       "          id                                           name  \\\n",
       "0    7950115                                         Avatar   \n",
       "1   50950115  Harry Potter and the Deathly Hallows: Part II   \n",
       "2  119870115                                 Transformers 3   \n",
       "3  119590115                                    Toy Story 3   \n",
       "4   91700115                     Pirates of the Caribbean 4   \n",
       "\n",
       "                                    display_name  production_year  \\\n",
       "0                                         Avatar             2009   \n",
       "1  Harry Potter and the Deathly Hallows: Part II             2011   \n",
       "2                 Transformers: Dark of the Moon             2011   \n",
       "3                                    Toy Story 3             2010   \n",
       "4    Pirates of the Caribbean: On Stranger Tides             2011   \n",
       "\n",
       "   movie_sequel    creative_type                             source  \\\n",
       "0             0  Science Fiction                Original Screenplay   \n",
       "1             1          Fantasy  Based on Fiction Book/Short Story   \n",
       "2             1  Science Fiction                        Based on TV   \n",
       "3             1     Kids Fiction                Original Screenplay   \n",
       "4             1          Fantasy           Based on Theme Park Ride   \n",
       "\n",
       "       production_method      genre language  \\\n",
       "0  Animation/Live Action     Action  English   \n",
       "1  Animation/Live Action  Adventure  English   \n",
       "2  Animation/Live Action     Action  English   \n",
       "3      Digital Animation  Adventure  English   \n",
       "4            Live Action  Adventure  English   \n",
       "\n",
       "                                 board_rating_reason  \\\n",
       "0  For intense epic battle sequences and warfare,...   \n",
       "1  for some sequences of intense action violence ...   \n",
       "2  for intense prolonged sequences of sci-fi acti...   \n",
       "3                                            General   \n",
       "4  for intense sequences of action/adventure viol...   \n",
       "\n",
       "  movie_board_rating_display_name movie_release_pattern_display_name  total  \\\n",
       "0                           PG-13                               Wide   2784   \n",
       "1                           PG-13                               Wide   1328   \n",
       "2                           PG-13                               Wide   1124   \n",
       "3                               G                               Wide   1064   \n",
       "4                           PG-13                               Wide   1044   \n",
       "\n",
       "   Category  \n",
       "0         9  \n",
       "1         9  \n",
       "2         9  \n",
       "3         9  \n",
       "4         9  "
      ]
     },
     "execution_count": 238,
     "metadata": {},
     "output_type": "execute_result"
    }
   ],
   "source": [
    "df_orig = pd.read_excel('/home/ubuntu/challenge_quantiphi/training_sheet.xlsx')\n",
    "df = pd.read_excel('/home/ubuntu/challenge_quantiphi/training_sheet.xlsx')\n",
    "df.head()"
   ]
  },
  {
   "cell_type": "markdown",
   "metadata": {},
   "source": [
    "* explore features"
   ]
  },
  {
   "cell_type": "code",
   "execution_count": 239,
   "metadata": {
    "collapsed": false,
    "scrolled": true
   },
   "outputs": [
    {
     "name": "stdout",
     "output_type": "stream",
     "text": [
      "<class 'pandas.core.frame.DataFrame'>\n",
      "RangeIndex: 1196 entries, 0 to 1195\n",
      "Data columns (total 15 columns):\n",
      "id                                    1196 non-null int64\n",
      "name                                  1196 non-null object\n",
      "display_name                          1196 non-null object\n",
      "production_year                       1196 non-null int64\n",
      "movie_sequel                          1196 non-null int64\n",
      "creative_type                         1196 non-null object\n",
      "source                                1196 non-null object\n",
      "production_method                     1196 non-null object\n",
      "genre                                 1196 non-null object\n",
      "language                              1196 non-null object\n",
      "board_rating_reason                   1196 non-null object\n",
      "movie_board_rating_display_name       1196 non-null object\n",
      "movie_release_pattern_display_name    1196 non-null object\n",
      "total                                 1196 non-null int64\n",
      "Category                              1196 non-null int64\n",
      "dtypes: int64(5), object(10)\n",
      "memory usage: 140.2+ KB\n"
     ]
    }
   ],
   "source": [
    "#check datatypes of each feature\n",
    "df.info()"
   ]
  },
  {
   "cell_type": "markdown",
   "metadata": {},
   "source": [
    "* let's drop independent variables that are not suitable for predictions"
   ]
  },
  {
   "cell_type": "code",
   "execution_count": 240,
   "metadata": {
    "collapsed": true
   },
   "outputs": [],
   "source": [
    "df.drop(['id', 'name', 'display_name', 'board_rating_reason'], axis=1, inplace=True)"
   ]
  },
  {
   "cell_type": "markdown",
   "metadata": {},
   "source": [
    "* let's drop production year. not a useful feature since it model may learn on unneccesary information and have to extrapolate for future productions. although, we might use this feature later on to create a feature to indicate how many movies were produced in the specific year. "
   ]
  },
  {
   "cell_type": "code",
   "execution_count": 241,
   "metadata": {
    "collapsed": true
   },
   "outputs": [],
   "source": [
    "df.drop(['production_year'], axis=1, inplace=True)"
   ]
  },
  {
   "cell_type": "markdown",
   "metadata": {},
   "source": [
    "* let's drop total. target feature category was dervied from total so let's not use this for predictions."
   ]
  },
  {
   "cell_type": "code",
   "execution_count": 242,
   "metadata": {
    "collapsed": true
   },
   "outputs": [],
   "source": [
    "df.drop(['total'], axis=1, inplace=True)"
   ]
  },
  {
   "cell_type": "markdown",
   "metadata": {},
   "source": [
    "* let's look at distribution of target variable"
   ]
  },
  {
   "cell_type": "code",
   "execution_count": 243,
   "metadata": {
    "collapsed": false
   },
   "outputs": [
    {
     "data": {
      "image/png": "[encoded data removed]",
      "text/plain": [
       "<matplotlib.figure.Figure at 0x7f83dbe93b38>"
      ]
     },
     "metadata": {},
     "output_type": "display_data"
    }
   ],
   "source": [
    "sns.barplot(x='Category', y=0, data=df.groupby('Category').size().reset_index().sort_values(0, ascending=True))\n",
    "plt.ylabel('Size')\n",
    "plt.title('Target Variable Distribution');"
   ]
  },
  {
   "cell_type": "markdown",
   "metadata": {},
   "source": [
    "* let's look at distribution of each independent variable.. we notice that some features have a skewed distribution. for now, let's continue with one-hot encoding and consider collapsing categories later on and see if this improves model performance compared to baseline scores."
   ]
  },
  {
   "cell_type": "code",
   "execution_count": 244,
   "metadata": {
    "collapsed": false,
    "scrolled": false
   },
   "outputs": [
    {
     "name": "stdout",
     "output_type": "stream",
     "text": [
      "CATEGORICAL FEATURE: creative_type = 9 subcategories\n",
      "CATEGORICAL FEATURE: source = 16 subcategories\n",
      "CATEGORICAL FEATURE: production_method = 6 subcategories\n",
      "CATEGORICAL FEATURE: genre = 13 subcategories\n",
      "CATEGORICAL FEATURE: language = 16 subcategories\n",
      "CATEGORICAL FEATURE: movie_board_rating_display_name = 6 subcategories\n",
      "CATEGORICAL FEATURE: movie_release_pattern_display_name = 7 subcategories\n"
     ]
    },
    {
     "data": {
      "image/png": "[encoded data removed]",
      "text/plain": [
       "<matplotlib.figure.Figure at 0x7f83dc0e1748>"
      ]
     },
     "metadata": {},
     "output_type": "display_data"
    }
   ],
   "source": [
    "fig , ax = plt.subplots(7, 1, figsize=(15,30))\n",
    "i = 0\n",
    "for column in df.columns:\n",
    "    if df[column].dtypes != 'int64':\n",
    "        print ('CATEGORICAL FEATURE:', column, '=',  df[column].unique().size, 'subcategories')\n",
    "        sns.barplot(ax = ax[i], y='index', x=column, data=df[column].value_counts().reset_index())\n",
    "        title = 'FEATURE ' + column \n",
    "        ax[i].set_title(title)\n",
    "        ax[i].set_xlabel('count')\n",
    "        ax[i].set_ylabel('subcategory')\n",
    "        i+=1"
   ]
  },
  {
   "cell_type": "markdown",
   "metadata": {},
   "source": [
    "## Step 2: Prepare Data for Training"
   ]
  },
  {
   "cell_type": "markdown",
   "metadata": {},
   "source": [
    "* let's create a dataframe for training \"df_main\" with categorical variables treated with one-hot encoding. for each category drop one sub-category to avoid co-linearity"
   ]
  },
  {
   "cell_type": "code",
   "execution_count": 245,
   "metadata": {
    "collapsed": false
   },
   "outputs": [
    {
     "ename": "ValueError",
     "evalue": "labels ['Special Engagement' 'NC-17' 'Arabic' 'Western'\n 'Multiple Production Methods' 'Based on Toy' 'Multiple Creative Types'] not contained in axis",
     "output_type": "error",
     "traceback": [
      "\u001b[1;31m---------------------------------------------------------------------------\u001b[0m",
      "\u001b[1;31mValueError\u001b[0m                                Traceback (most recent call last)",
      "\u001b[1;32m<ipython-input-245-8c11290142c9>\u001b[0m in \u001b[0;36m<module>\u001b[1;34m()\u001b[0m\n\u001b[0;32m      7\u001b[0m         \u001b[0mdf_main\u001b[0m \u001b[1;33m=\u001b[0m \u001b[0mpd\u001b[0m\u001b[1;33m.\u001b[0m\u001b[0mconcat\u001b[0m\u001b[1;33m(\u001b[0m\u001b[1;33m[\u001b[0m\u001b[0mdf_main\u001b[0m\u001b[1;33m,\u001b[0m \u001b[0mdummies\u001b[0m\u001b[1;33m]\u001b[0m\u001b[1;33m,\u001b[0m \u001b[0maxis\u001b[0m\u001b[1;33m=\u001b[0m\u001b[1;36m1\u001b[0m\u001b[1;33m)\u001b[0m\u001b[1;33m\u001b[0m\u001b[0m\n\u001b[0;32m      8\u001b[0m \u001b[1;33m\u001b[0m\u001b[0m\n\u001b[1;32m----> 9\u001b[1;33m \u001b[0mdf_main\u001b[0m\u001b[1;33m.\u001b[0m\u001b[0mdrop\u001b[0m\u001b[1;33m(\u001b[0m\u001b[1;33m[\u001b[0m\u001b[1;34m'Special Engagement'\u001b[0m\u001b[1;33m,\u001b[0m \u001b[1;34m'NC-17'\u001b[0m\u001b[1;33m,\u001b[0m \u001b[1;34m'Arabic'\u001b[0m\u001b[1;33m,\u001b[0m \u001b[1;34m'Western'\u001b[0m\u001b[1;33m,\u001b[0m \u001b[1;34m'Multiple Production Methods'\u001b[0m\u001b[1;33m,\u001b[0m \u001b[1;34m'Based on Toy'\u001b[0m\u001b[1;33m,\u001b[0m \u001b[1;34m'Multiple Creative Types'\u001b[0m\u001b[1;33m]\u001b[0m\u001b[1;33m)\u001b[0m\u001b[1;33m\u001b[0m\u001b[0m\n\u001b[0m\u001b[0;32m     10\u001b[0m \u001b[0mdf_main\u001b[0m\u001b[1;33m.\u001b[0m\u001b[0mhead\u001b[0m\u001b[1;33m(\u001b[0m\u001b[1;33m)\u001b[0m\u001b[1;33m\u001b[0m\u001b[0m\n",
      "\u001b[1;32m/home/ubuntu/anaconda3/lib/python3.5/site-packages/pandas/core/generic.py\u001b[0m in \u001b[0;36mdrop\u001b[1;34m(self, labels, axis, level, inplace, errors)\u001b[0m\n\u001b[0;32m   2159\u001b[0m                 \u001b[0mnew_axis\u001b[0m \u001b[1;33m=\u001b[0m \u001b[0maxis\u001b[0m\u001b[1;33m.\u001b[0m\u001b[0mdrop\u001b[0m\u001b[1;33m(\u001b[0m\u001b[0mlabels\u001b[0m\u001b[1;33m,\u001b[0m \u001b[0mlevel\u001b[0m\u001b[1;33m=\u001b[0m\u001b[0mlevel\u001b[0m\u001b[1;33m,\u001b[0m \u001b[0merrors\u001b[0m\u001b[1;33m=\u001b[0m\u001b[0merrors\u001b[0m\u001b[1;33m)\u001b[0m\u001b[1;33m\u001b[0m\u001b[0m\n\u001b[0;32m   2160\u001b[0m             \u001b[1;32melse\u001b[0m\u001b[1;33m:\u001b[0m\u001b[1;33m\u001b[0m\u001b[0m\n\u001b[1;32m-> 2161\u001b[1;33m                 \u001b[0mnew_axis\u001b[0m \u001b[1;33m=\u001b[0m \u001b[0maxis\u001b[0m\u001b[1;33m.\u001b[0m\u001b[0mdrop\u001b[0m\u001b[1;33m(\u001b[0m\u001b[0mlabels\u001b[0m\u001b[1;33m,\u001b[0m \u001b[0merrors\u001b[0m\u001b[1;33m=\u001b[0m\u001b[0merrors\u001b[0m\u001b[1;33m)\u001b[0m\u001b[1;33m\u001b[0m\u001b[0m\n\u001b[0m\u001b[0;32m   2162\u001b[0m             \u001b[0mdropped\u001b[0m \u001b[1;33m=\u001b[0m \u001b[0mself\u001b[0m\u001b[1;33m.\u001b[0m\u001b[0mreindex\u001b[0m\u001b[1;33m(\u001b[0m\u001b[1;33m**\u001b[0m\u001b[1;33m{\u001b[0m\u001b[0maxis_name\u001b[0m\u001b[1;33m:\u001b[0m \u001b[0mnew_axis\u001b[0m\u001b[1;33m}\u001b[0m\u001b[1;33m)\u001b[0m\u001b[1;33m\u001b[0m\u001b[0m\n\u001b[0;32m   2163\u001b[0m             \u001b[1;32mtry\u001b[0m\u001b[1;33m:\u001b[0m\u001b[1;33m\u001b[0m\u001b[0m\n",
      "\u001b[1;32m/home/ubuntu/anaconda3/lib/python3.5/site-packages/pandas/core/indexes/base.py\u001b[0m in \u001b[0;36mdrop\u001b[1;34m(self, labels, errors)\u001b[0m\n\u001b[0;32m   3622\u001b[0m             \u001b[1;32mif\u001b[0m \u001b[0merrors\u001b[0m \u001b[1;33m!=\u001b[0m \u001b[1;34m'ignore'\u001b[0m\u001b[1;33m:\u001b[0m\u001b[1;33m\u001b[0m\u001b[0m\n\u001b[0;32m   3623\u001b[0m                 raise ValueError('labels %s not contained in axis' %\n\u001b[1;32m-> 3624\u001b[1;33m                                  labels[mask])\n\u001b[0m\u001b[0;32m   3625\u001b[0m             \u001b[0mindexer\u001b[0m \u001b[1;33m=\u001b[0m \u001b[0mindexer\u001b[0m\u001b[1;33m[\u001b[0m\u001b[1;33m~\u001b[0m\u001b[0mmask\u001b[0m\u001b[1;33m]\u001b[0m\u001b[1;33m\u001b[0m\u001b[0m\n\u001b[0;32m   3626\u001b[0m         \u001b[1;32mreturn\u001b[0m \u001b[0mself\u001b[0m\u001b[1;33m.\u001b[0m\u001b[0mdelete\u001b[0m\u001b[1;33m(\u001b[0m\u001b[0mindexer\u001b[0m\u001b[1;33m)\u001b[0m\u001b[1;33m\u001b[0m\u001b[0m\n",
      "\u001b[1;31mValueError\u001b[0m: labels ['Special Engagement' 'NC-17' 'Arabic' 'Western'\n 'Multiple Production Methods' 'Based on Toy' 'Multiple Creative Types'] not contained in axis"
     ]
    }
   ],
   "source": [
    "df_main = pd.DataFrame.copy(df.drop(['creative_type', 'source', 'production_method', 'genre', 'language', 'movie_board_rating_display_name', 'movie_release_pattern_display_name'], axis =1))\n",
    "for column in df.columns:\n",
    "    if column == 'Category':\n",
    "        continue\n",
    "    elif df[column].dtypes != 'int64':\n",
    "        dummies = pd.get_dummies(df[column])\n",
    "        df_main = pd.concat([df_main, dummies], axis=1)\n",
    "\n",
    "df_main.drop(['Special Engagement', 'NC-17', 'Arabic', 'Western', 'Multiple Production Methods', 'Based on Toy', 'Multiple Creative Types'])\n",
    "df_main.head()"
   ]
  },
  {
   "cell_type": "markdown",
   "metadata": {},
   "source": [
    "* split into depenedent (target) and independent variables (features), split into 70% train and 30% test"
   ]
  },
  {
   "cell_type": "code",
   "execution_count": null,
   "metadata": {
    "collapsed": false
   },
   "outputs": [],
   "source": [
    "y_main = df_main['Category']\n",
    "X_main = df_main.drop('Category', axis=1)\n",
    "\n",
    "# Split into training and test\n",
    "X_train, X_test, y_train, y_test = model_selection.train_test_split(X_main, y_main, test_size=.3)\n",
    "\n",
    "print ('training size', X_train.shape[0])\n",
    "print ('test size', X_test.shape[0])"
   ]
  },
  {
   "cell_type": "markdown",
   "metadata": {},
   "source": [
    "## Step 3: Train Baseline Models (Knn, Decision Tree, Random Forest, Gradient Boosted)  \n",
    "\n",
    "NOTE: Making use of multi-class log-loss as main metric for evaluation. A lower log-loss score results in a better accuracy of the model. Using this metric rathern than accuracy score because of imbalanced classes as seen in data investigation section.\n",
    "\n",
    "NOTE: For paramter tuning, let's make use of log-loss to maximize quality of model's prediction's probability. later on, we may find best parameters using different metric depending on certain use cases later on."
   ]
  },
  {
   "cell_type": "markdown",
   "metadata": {},
   "source": [
    "#### Model 1: KNearest Neighbors Classifier  \n",
    "(let's see if we can make predictions based on similarity amongst movie's characteristics) "
   ]
  },
  {
   "cell_type": "markdown",
   "metadata": {},
   "source": [
    "* find best parameters nearest neighbors"
   ]
  },
  {
   "cell_type": "code",
   "execution_count": null,
   "metadata": {
    "collapsed": false
   },
   "outputs": [],
   "source": [
    "plot_overfit('log_loss', X_main, y_main, neighbors.KNeighborsClassifier, {'n_neighbors':range(5,40)})"
   ]
  },
  {
   "cell_type": "markdown",
   "metadata": {},
   "source": [
    "* evaluate log-loss score  "
   ]
  },
  {
   "cell_type": "code",
   "execution_count": null,
   "metadata": {
    "collapsed": false
   },
   "outputs": [],
   "source": [
    "model_knn = neighbors.KNeighborsClassifier(n_neighbors=30)\n",
    "\n",
    "#get score\n",
    "knn_score = get_cv_log(model_knn, X_main, y_main, 6)\n",
    "print ('cross-validated log loss score: ', knn_score)\n",
    "\n",
    "#get predictions\n",
    "_, model_knn_pred, model_knn_pred_proba = get_predictions(model_knn, X_test, X_train, y_train)\n",
    "\n",
    "#show confusion matrix\n",
    "#plot_cm(y_test, model_knn_pred)"
   ]
  },
  {
   "cell_type": "markdown",
   "metadata": {},
   "source": [
    "#### Model 2: Decision Tree Classifier  \n",
    "(let's see performance of a single decision tree as a baseline for comparison against RF and GB\n",
    "Trees. RF and GB should perform better when all parameters are tuned.)"
   ]
  },
  {
   "cell_type": "markdown",
   "metadata": {},
   "source": [
    "* find best parameters for decision tree"
   ]
  },
  {
   "cell_type": "code",
   "execution_count": null,
   "metadata": {
    "collapsed": false
   },
   "outputs": [],
   "source": [
    "plot_overfit('log_loss', X_main, y_main, tree.DecisionTreeClassifier, {'max_depth':range(2,20)})"
   ]
  },
  {
   "cell_type": "code",
   "execution_count": null,
   "metadata": {
    "collapsed": false
   },
   "outputs": [],
   "source": [
    "plot_overfit('log_loss', X_main, y_main, tree.DecisionTreeClassifier, {'min_samples_split':range(2,150,1)}, param_static={'max_depth':5})"
   ]
  },
  {
   "cell_type": "code",
   "execution_count": null,
   "metadata": {
    "collapsed": false
   },
   "outputs": [],
   "source": [
    "plot_overfit('log_loss', X_main, y_main, tree.DecisionTreeClassifier, {'min_samples_leaf':range(2,150,1)}, param_static={'max_depth':5, 'min_samples_split':63})"
   ]
  },
  {
   "cell_type": "markdown",
   "metadata": {},
   "source": [
    "* evaluate log-loss score"
   ]
  },
  {
   "cell_type": "code",
   "execution_count": null,
   "metadata": {
    "collapsed": false
   },
   "outputs": [],
   "source": [
    "model_tree = tree.DecisionTreeClassifier(max_depth=5, min_samples_split=63, min_samples_leaf=120)\n",
    "\n",
    "#get score\n",
    "tree_score = get_cv_log(model_tree, X_main, y_main, 6)\n",
    "print ('cross-validated log loss score: ', tree_score)\n",
    "\n",
    "#get predictions\n",
    "_, model_tree_pred, model_tree_pred_proba = get_predictions(model_tree, X_test, X_train, y_train)"
   ]
  },
  {
   "cell_type": "markdown",
   "metadata": {},
   "source": [
    "#### Model 3: Random Forest Classifier  \n",
    "(let's see performance of a bunch of decision trees. theoretically combining a bunch of \"weak\" learners to generate averaged  predictions to form a \"strong\" learner should result in better predictive performance) "
   ]
  },
  {
   "cell_type": "code",
   "execution_count": null,
   "metadata": {
    "collapsed": false
   },
   "outputs": [],
   "source": [
    "plot_overfit('log_loss', X_main, y_main, ensemble.RandomForestClassifier, {'n_estimators':np.linspace(1,400,100, dtype=int)})"
   ]
  },
  {
   "cell_type": "code",
   "execution_count": null,
   "metadata": {
    "collapsed": false
   },
   "outputs": [],
   "source": [
    "plot_overfit('log_loss', X_main, y_main, ensemble.RandomForestClassifier, {'max_depth':np.linspace(1,50,50, dtype=int)}, param_static={'n_estimators':150})"
   ]
  },
  {
   "cell_type": "code",
   "execution_count": null,
   "metadata": {
    "collapsed": false
   },
   "outputs": [],
   "source": [
    "plot_overfit('log_loss', X_main, y_main, ensemble.RandomForestClassifier, {'min_samples_split':np.linspace(2,100,50, dtype=int)}, param_static={'n_estimators':150, 'max_depth':13})"
   ]
  },
  {
   "cell_type": "code",
   "execution_count": null,
   "metadata": {
    "collapsed": false
   },
   "outputs": [],
   "source": [
    "plot_overfit('log_loss', X_main, y_main, ensemble.RandomForestClassifier, {'max_features':np.linspace(2,60,30, dtype=int)}, param_static={'n_estimators':150, 'max_depth':13, 'min_samples_split':18})"
   ]
  },
  {
   "cell_type": "markdown",
   "metadata": {},
   "source": [
    "* evaluate log loss score"
   ]
  },
  {
   "cell_type": "code",
   "execution_count": null,
   "metadata": {
    "collapsed": false
   },
   "outputs": [],
   "source": [
    "model_rf = ensemble.RandomForestClassifier(n_estimators=150, max_depth=13, min_samples_split=18, max_features=25)\n",
    "\n",
    "#get score\n",
    "rf_score = get_cv_log(model_rf, X_main, y_main, 6)\n",
    "print ('cross-validated log loss score: ', rf_score)\n",
    "\n",
    "#get predictions\n",
    "_, model_rf_pred, model_rf_pred_proba = get_predictions(model_rf, X_test, X_train, y_train)"
   ]
  },
  {
   "cell_type": "markdown",
   "metadata": {},
   "source": [
    "#### Model 4: Gradient Boosted Tree\n",
    "(let's see performance of a bunch of decision trees. theoretically combining a bunch of \"weak\" learners to generate averaged  predictions to form a \"strong\" learner) "
   ]
  },
  {
   "cell_type": "markdown",
   "metadata": {},
   "source": [
    "* find best parameters"
   ]
  },
  {
   "cell_type": "code",
   "execution_count": null,
   "metadata": {
    "collapsed": false,
    "scrolled": true
   },
   "outputs": [],
   "source": [
    "plot_overfit('log_loss', X_main, y_main, ensemble.GradientBoostingClassifier, {'max_depth':range(1,20)})"
   ]
  },
  {
   "cell_type": "code",
   "execution_count": null,
   "metadata": {
    "collapsed": false
   },
   "outputs": [],
   "source": [
    "plot_overfit('log_loss', X_main, y_main, ensemble.GradientBoostingClassifier, {'min_samples_split':range(2,100,20)}, param_static={'max_depth':4})"
   ]
  },
  {
   "cell_type": "code",
   "execution_count": null,
   "metadata": {
    "collapsed": false
   },
   "outputs": [],
   "source": [
    "plot_overfit('log_loss', X_main, y_main, ensemble.GradientBoostingClassifier, {'max_features':range(2,30,3)}, param_static={'max_depth':4, 'min_samples_split':60})"
   ]
  },
  {
   "cell_type": "code",
   "execution_count": null,
   "metadata": {
    "collapsed": false
   },
   "outputs": [],
   "source": [
    "plot_overfit('log_loss', X_main, y_main, ensemble.GradientBoostingClassifier, {'subsample':[0.6,0.7,0.75,0.8,0.85,0.9]}, param_static={'max_depth':4, 'min_samples_split':60, 'max_features':15})"
   ]
  },
  {
   "cell_type": "markdown",
   "metadata": {},
   "source": [
    "* evaluate log loss score"
   ]
  },
  {
   "cell_type": "code",
   "execution_count": null,
   "metadata": {
    "collapsed": false
   },
   "outputs": [],
   "source": [
    "model_gb = ensemble.GradientBoostingClassifier(max_depth=4, min_samples_split=60, max_features=15, subsample=0.7)\n",
    "\n",
    "#get score\n",
    "gb_score = get_cv_log(model_gb, X_main, y_main, 6)\n",
    "print ('cross-validated log loss score: ', gb_score)\n",
    "\n",
    "#get predictions\n",
    "_, model_gb_pred, model_gb_pred_proba = get_predictions(model_gb, X_test, X_train, y_train)"
   ]
  },
  {
   "cell_type": "markdown",
   "metadata": {},
   "source": [
    "* summarize scores and identify top performers. from the barplot below, we seee that the 2 best models are Random Forest and Gradient Boosted. Let's continue trying to improve the scores of the top 2 by doing feature engineering."
   ]
  },
  {
   "cell_type": "code",
   "execution_count": null,
   "metadata": {
    "collapsed": false
   },
   "outputs": [],
   "source": [
    "sns.barplot(x=[knn_score, tree_score, rf_score, gb_score], y=['KNN', 'Decision Tree', 'Random Forest', 'Gradient Boosted'])\n",
    "plt.title('Log Loss Scores for Each Model')\n",
    "plt.ylabel('Model')\n",
    "plt.xlabel('multi-class log loss');"
   ]
  },
  {
   "cell_type": "markdown",
   "metadata": {},
   "source": [
    "## Step 4: Model Improvement"
   ]
  },
  {
   "cell_type": "markdown",
   "metadata": {},
   "source": [
    "#### Feature Engineering"
   ]
  },
  {
   "cell_type": "markdown",
   "metadata": {},
   "source": [
    "* let's look at the most important features as considered by the Random Forest model."
   ]
  },
  {
   "cell_type": "code",
   "execution_count": null,
   "metadata": {
    "collapsed": false
   },
   "outputs": [],
   "source": [
    "model_rf_improvement = ensemble.RandomForestClassifier(n_estimators=150, max_depth=13, min_samples_split=18, max_features=25)\n",
    "model_rf_improvement.fit(X_train, y_train)\n",
    "\n",
    "zipped_rf = list(zip(X_train.columns, model_rf_improvement.feature_importances_))\n",
    "zipped_rf.sort(key = lambda t: t[1], reverse = True)\n",
    "\n",
    "feature_list = []\n",
    "score_list = []\n",
    "for feature in zipped_rf:\n",
    "    feature_list.append(feature[0])\n",
    "    score_list.append(feature[1])\n",
    "\n",
    "fig, ax = plt.subplots(1,1)\n",
    "ax.set_title('Feature Importance from RF')\n",
    "fig.set_size_inches(20,20)\n",
    "sns.barplot(ax=ax, y=feature_list, x=score_list);  "
   ]
  },
  {
   "cell_type": "markdown",
   "metadata": {},
   "source": [
    "* we see that Hindi and English are heavily used features while other languages are barely used in the forest. let's remove languages besides these 2 identified languages. "
   ]
  },
  {
   "cell_type": "code",
   "execution_count": null,
   "metadata": {
    "collapsed": true
   },
   "outputs": [],
   "source": [
    "y_improvement = df_main['Category']\n",
    "X_improvement = df_main.drop(['Category', 'French', 'Spanish', 'Silent','Farsi', 'German', 'Portuguese', 'Arabic', 'Hebrew', 'Italian', 'Polish', 'Japanese', 'Danish', 'Norwegian'], axis=1)"
   ]
  },
  {
   "cell_type": "markdown",
   "metadata": {},
   "source": [
    "* we saw earlier that production method had an imbalanced number of datapoints. from the forest feature importance, we also notice that besides Live Action, Digital Animation and Animation/Live Action the rest of the subcategories are not heavily used. Let's collapse these into a smaller set of sub-categories -- 1.) Live Action 2.) Animation/Live Action 3.) Animation"
   ]
  },
  {
   "cell_type": "code",
   "execution_count": null,
   "metadata": {
    "collapsed": false
   },
   "outputs": [],
   "source": [
    "#remove all previous production categories\n",
    "list_remove = df['production_method'].unique().tolist()\n",
    "list_remove.remove('Stop-Motion Animation')\n",
    "X_improvement.drop(list_remove, axis=1, inplace=True)\n",
    "\n",
    "#modify production method to only 3 categories \n",
    "df['production_method'] = df['production_method'].map(modify_prod_method)\n",
    "\n",
    "#one-hot encode  new production method and add to independent features. drop one feature to avoid co-linearity\n",
    "dummies = pd.get_dummies(df['production_method']).iloc[:,:-1]\n",
    "X_improvement = pd.concat([X_improvement, dummies], axis=1)"
   ]
  },
  {
   "cell_type": "markdown",
   "metadata": {},
   "source": [
    "* from the case study, it mentioned that Competition was an important feature during a movie production process. let's create features that address this defined importance. to do so, let's create features that count how many movies are competing each year under the same genre and under total for the year."
   ]
  },
  {
   "cell_type": "code",
   "execution_count": null,
   "metadata": {
    "collapsed": false
   },
   "outputs": [],
   "source": [
    "#competition under the same genre\n",
    "df_competition = df_orig.groupby(['production_year', 'genre']).size().reset_index()\n",
    "df_orig['competition_genre'] = df_orig.apply(get_num_competitors, args=(df_competition,), axis=1)\n",
    "X_improvement['competition_genre'] = df_orig['competition_genre'].values\n",
    "\n",
    "#competition of all movies produced in the same year\n",
    "df_competition = df_orig.groupby('production_year').size().reset_index()\n",
    "df_orig['competition_total'] = df_orig.apply(get_num_competitors_total, args=(df_competition,), axis=1)\n",
    "X_improvement['competition_total'] = df_orig['competition_total'].values"
   ]
  },
  {
   "cell_type": "markdown",
   "metadata": {},
   "source": [
    "* from the case study, it mentioned that 'movie board rating' was an important factor. let's see the effect on model performance by creating a ranked ordered list for 'movie board rating' based on average movie gross rather than one-hot encoding as we've done previously."
   ]
  },
  {
   "cell_type": "code",
   "execution_count": null,
   "metadata": {
    "collapsed": false
   },
   "outputs": [],
   "source": [
    "df_orig.groupby('movie_board_rating_display_name')['total'].mean().reset_index().sort_values('total', ascending=True)"
   ]
  },
  {
   "cell_type": "code",
   "execution_count": null,
   "metadata": {
    "collapsed": false
   },
   "outputs": [],
   "source": [
    "#create a new category for movie board rating which is based on ranked order of total sales under each category\n",
    "movie_board_rating_ranked_list = df_orig.groupby('movie_board_rating_display_name')['total'].mean().reset_index().sort_values('total', ascending=True)['movie_board_rating_display_name'].tolist()\n",
    "df['movie_board_rating_ranked'] = df['movie_board_rating_display_name'].map(rating_to_ranked_order)\n",
    "X_improvement['movie_board_rating_ranked'] = df['movie_board_rating_ranked'].values\n",
    "\n",
    "#since we added a ranked category list for movie board rating, let's drop the one-hot encoded\n",
    "list_remove = df['movie_board_rating_display_name'].unique().tolist()\n",
    "list_remove.remove('R')\n",
    "X_improvement.drop(list_remove, axis=1, inplace=True)"
   ]
  },
  {
   "cell_type": "markdown",
   "metadata": {},
   "source": [
    "* from the case study, it mentioned that 'genre' was an important factor. let's do the same thing we did for movie rating for 'genre'"
   ]
  },
  {
   "cell_type": "code",
   "execution_count": null,
   "metadata": {
    "collapsed": false
   },
   "outputs": [],
   "source": [
    "df_orig.groupby('genre')['total'].mean().reset_index().sort_values('total', ascending=False)"
   ]
  },
  {
   "cell_type": "code",
   "execution_count": null,
   "metadata": {
    "collapsed": true
   },
   "outputs": [],
   "source": [
    "#create ranked list for genre as defined by order total sales above\n",
    "genre_ranked_list = df_orig.groupby('genre')['total'].mean().reset_index().sort_values('total', ascending=True)['genre'].tolist()\n",
    "df['genre_ranked'] = df['genre'].map(genre_to_ranked_order)\n",
    "X_improvement['genre_ranked'] = df['genre_ranked'].values\n",
    "\n",
    "#remove one-hot categories\n",
    "list_remove = df['genre'].unique().tolist()\n",
    "list_remove.remove('Western')\n",
    "X_improvement.drop(list_remove, axis=1, inplace=True)"
   ]
  },
  {
   "cell_type": "markdown",
   "metadata": {},
   "source": [
    "#### Random Forest"
   ]
  },
  {
   "cell_type": "markdown",
   "metadata": {},
   "source": [
    "* find best parameters"
   ]
  },
  {
   "cell_type": "code",
   "execution_count": null,
   "metadata": {
    "collapsed": false
   },
   "outputs": [],
   "source": [
    "plot_overfit('log_loss', X_improvement, y_improvement, ensemble.RandomForestClassifier, {'n_estimators':np.linspace(1,400,100, dtype=int)})"
   ]
  },
  {
   "cell_type": "code",
   "execution_count": null,
   "metadata": {
    "collapsed": false
   },
   "outputs": [],
   "source": [
    "plot_overfit('log_loss', X_improvement, y_improvement, ensemble.RandomForestClassifier, {'max_depth':np.linspace(1,20,19, dtype=int)}, param_static={'n_estimators':280})"
   ]
  },
  {
   "cell_type": "code",
   "execution_count": null,
   "metadata": {
    "collapsed": false
   },
   "outputs": [],
   "source": [
    "plot_overfit('log_loss', X_improvement, y_improvement, ensemble.RandomForestClassifier, {'min_samples_split':np.linspace(2,15,13, dtype=int)}, param_static={'n_estimators':280, 'max_depth':6})"
   ]
  },
  {
   "cell_type": "code",
   "execution_count": null,
   "metadata": {
    "collapsed": false
   },
   "outputs": [],
   "source": [
    "plot_overfit('log_loss', X_improvement, y_improvement, ensemble.RandomForestClassifier, {'max_features':np.linspace(2,39,37, dtype=int)}, param_static={'n_estimators':280, 'max_depth':6, 'min_samples_split':2})"
   ]
  },
  {
   "cell_type": "markdown",
   "metadata": {},
   "source": [
    "* we can see from the log loss score below it has decreased after adding the newly created features. this improvement in log loss reflects an improvement in the probability / quality of each prediction from the model. let's go with these feature transformations for now and move on with analyzing the model in closer detail."
   ]
  },
  {
   "cell_type": "code",
   "execution_count": null,
   "metadata": {
    "collapsed": false
   },
   "outputs": [],
   "source": [
    "model_rf_improvement = ensemble.RandomForestClassifier(n_estimators=280, max_depth=6, min_samples_split=2, max_features=13)\n",
    "\n",
    "#get score\n",
    "rf_score_improvement = get_cv_log(model_rf_improvement, X_improvement, y_improvement, 6)\n",
    "print ('cross-validated log loss score: ', rf_score_improvement)\n",
    "\n",
    "#get predictions\n",
    "X_train_improvement, X_test_improvement, y_train_improvement, y_test_improvement = model_selection.train_test_split(X_improvement, y_improvement, test_size=.3)\n",
    "model_rf_improvement, model_rf_improvement_pred, model_rf_improvement_pred_proba = get_predictions(model_rf_improvement, X_test_improvement, X_train_improvement, y_train_improvement)"
   ]
  },
  {
   "cell_type": "markdown",
   "metadata": {},
   "source": [
    "* we can see from the feature importance below, that there are features that are more used than others. this indicates that we can still perform more feature transformations on other features. for now, let's make use of this feature set and take a closer look at the model's quality of predictions."
   ]
  },
  {
   "cell_type": "code",
   "execution_count": null,
   "metadata": {
    "collapsed": false,
    "scrolled": false
   },
   "outputs": [],
   "source": [
    "zipped_rf = list(zip(X_train_improvement.columns, model_rf_improvement.feature_importances_))\n",
    "zipped_rf.sort(key = lambda t: t[1], reverse = True)\n",
    "\n",
    "feature_list = []\n",
    "score_list = []\n",
    "for feature in zipped_rf:\n",
    "    feature_list.append(feature[0])\n",
    "    score_list.append(feature[1])\n",
    "\n",
    "fig, ax = plt.subplots(1,1)\n",
    "ax.set_title('Feature Importance from RF')\n",
    "fig.set_size_inches(20,20)\n",
    "sns.barplot(ax=ax, y=feature_list, x=score_list);  "
   ]
  },
  {
   "cell_type": "markdown",
   "metadata": {},
   "source": [
    "## Step 5: Model Analysis (a closer look at Random Forest's performance)"
   ]
  },
  {
   "cell_type": "code",
   "execution_count": null,
   "metadata": {
    "collapsed": true
   },
   "outputs": [],
   "source": [
    "model_final = ensemble.RandomForestClassifier(n_estimators=280, max_depth=6, min_samples_split=2, max_features=13)\n",
    "model_final, model_rf_improvement_pred, model_rf_improvement_pred_proba = get_predictions(model_rf_improvement, X_test_improvement, X_train_improvement, y_train_improvement)"
   ]
  },
  {
   "cell_type": "markdown",
   "metadata": {},
   "source": [
    "* plot confusion matrix"
   ]
  },
  {
   "cell_type": "code",
   "execution_count": null,
   "metadata": {
    "collapsed": false
   },
   "outputs": [],
   "source": [
    "plot_cm(y_test_improvement, model_rf_improvement_pred)"
   ]
  },
  {
   "cell_type": "markdown",
   "metadata": {},
   "source": [
    "* plot roc curve. to see roc-curve & respective auc scores of each class and the model in entirety (mirco averaged & macro averaged auc score), we must use a one vs rest method. micro averaged score gives more importance to larger classes while macro averaged score gives more weight to smaller classes. in our dataset, movies are largely imbalanced towards lower categories (1-4), so if wanting to optimize these classes, pay attention to micro averaged. if performance wants to be measured towards smaller imbalanced classes (categories 5-9), make use macro averaged."
   ]
  },
  {
   "cell_type": "code",
   "execution_count": null,
   "metadata": {
    "collapsed": false
   },
   "outputs": [],
   "source": [
    "#create train test split except category is one-hot\n",
    "y_improvement = pd.get_dummies(df_main['Category']).values\n",
    "X_train_improvement, X_test_improvement, y_train_improvement, y_test_improvement = model_selection.train_test_split(X_improvement, y_improvement, test_size=.3)"
   ]
  },
  {
   "cell_type": "code",
   "execution_count": null,
   "metadata": {
    "collapsed": true
   },
   "outputs": [],
   "source": [
    "#use random forest encapsulated with onevsrest in order compute roc curve, precision-recall curve per-class\n",
    "rf_onevsrest = multiclass.OneVsRestClassifier(ensemble.RandomForestClassifier(n_estimators=280, max_depth=6, min_samples_split=2, max_features=13))\n",
    "rf_onevsrest_pred_proba = rf_onevsrest.fit(X_train_improvement, y_train_improvement).predict_proba(X_test_improvement)"
   ]
  },
  {
   "cell_type": "code",
   "execution_count": null,
   "metadata": {
    "collapsed": true
   },
   "outputs": [],
   "source": [
    "# Compute roc curve and auc score for each class\n",
    "fpr = dict()\n",
    "tpr = dict()\n",
    "roc_auc = dict()\n",
    "n_classes = y_improvement.shape[1]\n",
    "\n",
    "for i in range(n_classes):\n",
    "    fpr[i], tpr[i], _ = metrics.roc_curve(y_test_improvement[:, i], rf_onevsrest_pred_proba[:, i])\n",
    "    roc_auc[i] = metrics.auc(fpr[i], tpr[i])\n",
    "    \n",
    "# compute micro-average roc curve and auc score\n",
    "fpr[\"micro\"], tpr[\"micro\"], _ = metrics.roc_curve(y_test_improvement.ravel(), rf_onevsrest_pred_proba.ravel())\n",
    "roc_auc[\"micro\"] = metrics.auc(fpr[\"micro\"], tpr[\"micro\"])"
   ]
  },
  {
   "cell_type": "code",
   "execution_count": null,
   "metadata": {
    "collapsed": false
   },
   "outputs": [],
   "source": [
    "# let's first aggregate all false positive rates\n",
    "all_fpr = np.unique(np.concatenate([fpr[i] for i in range(n_classes)]))\n",
    "\n",
    "# interpolate all ROC curves at this points\n",
    "mean_tpr = np.zeros_like(all_fpr)\n",
    "for i in range(n_classes):\n",
    "    mean_tpr += interp(all_fpr, fpr[i], tpr[i])\n",
    "    \n",
    "mean_tpr /= n_classes\n",
    "\n",
    "# compute maccro-average roc curve and auc score\n",
    "fpr[\"macro\"] = all_fpr\n",
    "tpr[\"macro\"] = mean_tpr\n",
    "roc_auc[\"macro\"] = metrics.auc(fpr[\"macro\"], tpr[\"macro\"])\n",
    "\n",
    "# plot micro, macro, each-class roc curve\n",
    "plt.figure(figsize=(22,12))\n",
    "plt.plot(fpr[\"micro\"], tpr[\"micro\"],\n",
    "         label='micro-average ROC curve (area = {0:0.2f})'\n",
    "               ''.format(roc_auc[\"micro\"]),\n",
    "         color='deeppink', linestyle=':', linewidth=4)\n",
    "\n",
    "plt.plot(fpr[\"macro\"], tpr[\"macro\"],\n",
    "         label='macro-average ROC curve (area = {0:0.2f})'\n",
    "               ''.format(roc_auc[\"macro\"]),\n",
    "         color='navy', linestyle=':', linewidth=4)\n",
    "colors = cycle(['navy', 'turquoise', 'darkorange', 'cornflowerblue', 'teal', 'purple'])\n",
    "for i, color in zip(range(n_classes), colors):\n",
    "    plt.plot(fpr[i], tpr[i], color=color, lw=lw,\n",
    "             label='ROC curve of class {0} (area = {1:0.2f})'\n",
    "             ''.format(i+1, roc_auc[i]))\n",
    "\n",
    "plt.plot([0, 1], [0, 1], 'k--', lw=lw)\n",
    "plt.xlim([0.0, 1.0])\n",
    "plt.ylim([0.0, 1.05])\n",
    "plt.xlabel('False Positive Rate')\n",
    "plt.ylabel('True Positive Rate')\n",
    "plt.title('Multiclass ROC Curve for Random Forest')\n",
    "plt.legend(loc=\"lower right\");"
   ]
  },
  {
   "cell_type": "markdown",
   "metadata": {},
   "source": [
    "* plot precision recall and per class precision recall. "
   ]
  },
  {
   "cell_type": "code",
   "execution_count": null,
   "metadata": {
    "collapsed": false
   },
   "outputs": [],
   "source": [
    "#compute multiclass precision recall \n",
    "precision = dict()\n",
    "recall = dict()\n",
    "average_precision = dict()\n",
    "\n",
    "colors = cycle(['navy', 'turquoise', 'darkorange', 'cornflowerblue', 'teal', 'purple'])\n",
    "lw = 2\n",
    "\n",
    "#compute per class precision recall\n",
    "for i in range(n_classes):\n",
    "    precision[i], recall[i], _ = metrics.precision_recall_curve(y_test_improvement[:, i],rf_onevsrest_pred_proba[:, i])\n",
    "    average_precision[i] = metrics.average_precision_score(y_test_improvement[:, i], rf_onevsrest_pred_proba[:, i])\n",
    "\n",
    "# compute micro-average prec-recall curve \n",
    "precision[\"micro\"], recall[\"micro\"], _ = metrics.precision_recall_curve(y_test_improvement.ravel(), rf_onevsrest_pred_proba.ravel())\n",
    "average_precision[\"micro\"] = metrics.average_precision_score(y_test_improvement, rf_onevsrest_pred_proba, average=\"micro\")\n",
    "\n",
    "# compute macro-average prec-recall curve\n",
    "precision[\"macro\"], recall[\"macro\"], _ = metrics.precision_recall_curve(y_test_improvement.ravel(), rf_onevsrest_pred_proba.ravel())\n",
    "average_precision[\"macro\"] = metrics.average_precision_score(y_test_improvement, rf_onevsrest_pred_proba, average=\"macro\")"
   ]
  },
  {
   "cell_type": "code",
   "execution_count": null,
   "metadata": {
    "collapsed": false
   },
   "outputs": [],
   "source": [
    "# plot micro, macro, each-class precision-recall\n",
    "plt.figure(figsize=(22,12))\n",
    "plt.plot(recall[\"micro\"], precision[\"micro\"], color='gold', lw=lw,\n",
    "         label='micro-average precision-recall curve (area = {0:0.2f})'\n",
    "               ''.format(average_precision[\"micro\"]))\n",
    "plt.plot(recall[\"macro\"], precision[\"macro\"], color='red', lw=lw,\n",
    "         label='macro-average precision-recall curve (area = {0:0.2f})'\n",
    "               ''.format(average_precision[\"macro\"]))\n",
    "for i, color in zip(range(n_classes), colors):\n",
    "    plt.plot(recall[i], precision[i], color=color, lw=lw,\n",
    "             label='precision-recall curve of class {0} (area = {1:0.2f})'\n",
    "                   ''.format(i+1, average_precision[i]))\n",
    "\n",
    "plt.xlim([0.0, 1.0])\n",
    "plt.ylim([0.0, 1.05])\n",
    "plt.xlabel('Recall')\n",
    "plt.ylabel('Precision')\n",
    "plt.title('Multiclass Precison-Recall Curve for Random Forest')\n",
    "plt.legend(loc=\"upper right\");"
   ]
  },
  {
   "cell_type": "markdown",
   "metadata": {},
   "source": [
    "## Step 6: Make Predictions on Scoring Data"
   ]
  },
  {
   "cell_type": "code",
   "execution_count": null,
   "metadata": {
    "collapsed": false
   },
   "outputs": [],
   "source": [
    "df_training = pd.read_excel('/home/ubuntu/challenge_quantiphi/training_sheet.xlsx')\n",
    "df_scoring = pd.read_excel('/home/ubuntu/challenge_quantiphi/scoring_sheet.xlsx')\n",
    "\n",
    "#this category was not present in training data, cannot be used for predictions\n",
    "df_scoring.drop(['production_budget', 'board_rating_reason'], axis=1, inplace=True)"
   ]
  },
  {
   "cell_type": "code",
   "execution_count": null,
   "metadata": {
    "collapsed": false
   },
   "outputs": [],
   "source": [
    "for column in df_scoring.columns[3:]:\n",
    "    if df_scoring[column].dtypes != 'int64':\n",
    "        print ('CATEGORICAL FEATURE:', column, '=',  df_training[column].unique().size, 'training', df_scoring[column].unique().size, 'scoring')\n",
    "        print ((set(df_training[column].unique()) - set(df_scoring[column].unique())))\n",
    "        for category in (set(df_training[column].unique()) - set(df_scoring[column].unique())):\n",
    "            print (category)"
   ]
  },
  {
   "cell_type": "code",
   "execution_count": null,
   "metadata": {
    "collapsed": false
   },
   "outputs": [],
   "source": [
    "for column in df_scoring.columns[3:]:\n",
    "    if df_scoring[column].dtypes != 'int64':\n",
    "        print ('CATEGORICAL FEATURE:', column, '=',  df_scoring[column].unique().size, 'subcategories')\n"
   ]
  },
  {
   "cell_type": "code",
   "execution_count": null,
   "metadata": {
    "collapsed": false
   },
   "outputs": [],
   "source": [
    "def prepare_data(df_scoring):\n",
    "    df_scoring.drop(['id', 'name', 'display_name'], axis=1, inplace=True)\n",
    "\n",
    "    \n",
    "    #collapse production method\n",
    "    df_scoring['production_method'] = df_scoring['production_method'].map(modify_prod_method)\n",
    "    \n",
    "    #competition under the same genre\n",
    "    df_competition = df_scoring.groupby(['production_year', 'genre']).size().reset_index()\n",
    "    df_scoring['competition_genre'] = df_scoring.apply(get_num_competitors, args=(df_competition,), axis=1)\n",
    "\n",
    "    #competition of all movies produced in the same year\n",
    "    df_competition = df_scoring.groupby('production_year').size().reset_index()\n",
    "    df_scoring['competition_total'] = df_scoring.apply(get_num_competitors_total, args=(df_competition,), axis=1)\n",
    "\n",
    "    \n",
    "    df_scoring['movie_board_rating_ranked'] = df_scoring['movie_board_rating_display_name'].map(rating_to_ranked_order)\n",
    "    df_scoring.drop('movie_board_rating_display_name', axis=1, inplace=True)\n",
    "    \n",
    "    df_scoring['genre_ranked'] = df_scoring['genre'].map(genre_to_ranked_order)\n",
    "    df_scoring.drop('genre', axis=1, inplace=True)\n",
    "    \n",
    "    df_scoring.drop(['production_year'], axis=1, inplace=True)\n",
    "    \n",
    "    for column in df_scoring.columns:\n",
    "        if column == 'Category':\n",
    "            continue\n",
    "        elif df_scoring[column].dtypes != 'int64':\n",
    "            dummies = pd.get_dummies(df_scoring[column])\n",
    "            df_scoring = pd.concat([df_scoring, dummies], axis=1)\n",
    "\n",
    "    df_scoring = pd.DataFrame.copy(df_scoring.drop(['creative_type', 'source', 'production_method', 'language', 'movie_release_pattern_display_name'], axis =1))\n",
    "    \n",
    "    df_scoring.drop(['French', 'Indonesian/Balinese', 'Spanish', axis=1)\n",
    "    \n",
    "    return df_scoring"
   ]
  },
  {
   "cell_type": "code",
   "execution_count": null,
   "metadata": {
    "collapsed": false
   },
   "outputs": [],
   "source": [
    "df_scoring = prepare_data(df_scoring)"
   ]
  },
  {
   "cell_type": "code",
   "execution_count": null,
   "metadata": {
    "collapsed": false
   },
   "outputs": [],
   "source": [
    "len(df_scoring.columns)"
   ]
  },
  {
   "cell_type": "code",
   "execution_count": null,
   "metadata": {
    "collapsed": false
   },
   "outputs": [],
   "source": [
    "len(X_test_improvement.columns)"
   ]
  },
  {
   "cell_type": "code",
   "execution_count": null,
   "metadata": {
    "collapsed": false
   },
   "outputs": [],
   "source": [
    "set(X_test_improvement.columns.tolist()) - set(df_scoring.columns.tolist())"
   ]
  },
  {
   "cell_type": "code",
   "execution_count": null,
   "metadata": {
    "collapsed": false,
    "scrolled": true
   },
   "outputs": [],
   "source": [
    "X_test_improvement.columns"
   ]
  },
  {
   "cell_type": "code",
   "execution_count": null,
   "metadata": {
    "collapsed": false
   },
   "outputs": [],
   "source": [
    "df_scoring.columns"
   ]
  },
  {
   "cell_type": "code",
   "execution_count": null,
   "metadata": {
    "collapsed": true
   },
   "outputs": [],
   "source": [
    "for column in set(X_test_improvement.columns.tolist()) - set(df_scoring.columns.tolist()):\n",
    "    df_scoring[column] = np.zeros(df_scoring.shape[0])"
   ]
  },
  {
   "cell_type": "code",
   "execution_count": null,
   "metadata": {
    "collapsed": false
   },
   "outputs": [],
   "source": [
    "len(df_scoring.columns)"
   ]
  },
  {
   "cell_type": "code",
   "execution_count": null,
   "metadata": {
    "collapsed": false
   },
   "outputs": [],
   "source": [
    "set(df_scoring.columns.tolist()) - set(X_test_improvement.columns.tolist()) "
   ]
  },
  {
   "cell_type": "code",
   "execution_count": null,
   "metadata": {
    "collapsed": true
   },
   "outputs": [],
   "source": [
    "s"
   ]
  }
 ],
 "metadata": {
  "kernelspec": {
   "display_name": "Python 3",
   "language": "python",
   "name": "python3"
  },
  "language_info": {
   "codemirror_mode": {
    "name": "ipython",
    "version": 3
   },
   "file_extension": ".py",
   "mimetype": "text/x-python",
   "name": "python",
   "nbconvert_exporter": "python",
   "pygments_lexer": "ipython3",
   "version": "3.5.3"
  }
 },
 "nbformat": 4,
 "nbformat_minor": 0
}
